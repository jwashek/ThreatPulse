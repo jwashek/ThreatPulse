# FIRST RUN: In a separate cell, run this first:
# !pip install feedparser beautifulsoup4
# After running above, paste all what follows into the next cell and run

import requests
import pandas as pd
import matplotlib.pyplot as plt
import seaborn as sns
import numpy as np
from datetime import datetime, timedelta
import re
import json
from collections import Counter, defaultdict
import warnings
warnings.filterwarnings('ignore')

from bs4 import BeautifulSoup
import feedparser
import time

plt.style.use('dark_background')
sns.set_palette("viridis")

print("[!] ThreatPulse Threat Intelligence Platform Initialized")
print("=" * 60)


class ThreatIntelligenceCollector:
    def __init__(self):
        self.session = requests.Session()
        self.session.headers.update({
            'User-Agent': 'ThreatPulse Research Tool 1.0'
        })
        self.collected_data = {
            'cisa_alerts': [],
            'cve_data': [],
            'malware_reports': [],
            'threat_actors': [],
            'security_news': []
        }
        
    def collect_cisa_alerts(self):
        print("[+] Collecting CISA Alerts...")
        try:
            # CISA RSS feed
            feed_url = "https://www.cisa.gov/cybersecurity-advisories/all.xml"
            feed = feedparser.parse(feed_url)
            
            alerts = []
            for entry in feed.entries[:20]:  # Last 20 alerts
                alert = {
                    'title': entry.title,
                    'published': entry.published,
                    'summary': entry.summary,
                    'link': entry.link,
                    'severity': self.extract_severity(entry.title),
                    'source': 'CISA'
                }
                alerts.append(alert)
            
            self.collected_data['cisa_alerts'] = alerts
            print(f"[+] Collected {len(alerts)} CISA alerts")
            return alerts
            
        except Exception as e:
            print(f"[x] Error collecting CISA alerts: {e}")
            return []
    
    def collect_cve_data(self):
        print("[+] Collecting CVE Data...")
        try:
            # NVD recent CVEs API
            url = "https://services.nvd.nist.gov/rest/json/cves/2.0"
            params = {
                'resultsPerPage': 50,
                'startIndex': 0
            }
            
            response = self.session.get(url, params=params, timeout=30)
            if response.status_code == 200:
                data = response.json()
                
                cves = []
                for cve in data.get('vulnerabilities', [])[:25]:
                    cve_data = cve.get('cve', {})
                    cve_info = {
                        'cve_id': cve_data.get('id'),
                        'published': cve_data.get('published'),
                        'modified': cve_data.get('lastModified'),
                        'description': cve_data.get('descriptions', [{}])[0].get('value', 'No description'),
                        'severity': self.get_cvss_score(cve_data),
                        'source': 'NVD'
                    }
                    cves.append(cve_info)
                
                self.collected_data['cve_data'] = cves
                print(f"[+] Collected {len(cves)} CVEs")
                return cves
            
        except Exception as e:
            print(f"[x] Error collecting CVE data: {e}")
            return []
    
    def collect_security_news(self):
        print("[+] Collecting Security News...")
        
        security_feeds = [
            "https://feeds.feedburner.com/TheHackersNews",
            "https://krebsonsecurity.com/feed/",
            "https://www.bleepingcomputer.com/feed/"
        ]
        
        all_news = []
        
        for feed_url in security_feeds:
            try:
                feed = feedparser.parse(feed_url)
                source_name = self.extract_source_name(feed_url)
                
                for entry in feed.entries[:10]:  # Top 10 from each source
                    news_item = {
                        'title': entry.title,
                        'published': entry.published,
                        'summary': entry.summary if hasattr(entry, 'summary') else '',
                        'link': entry.link,
                        'source': source_name,
                        'threat_intelligence': self.extract_threat_intelligence(entry.title + ' ' + getattr(entry, 'summary', ''))
                    }
                    all_news.append(news_item)
                    
                print(f"[+] Collected {len(feed.entries[:10])} articles from {source_name}")
                time.sleep(1)  # Be respectful to servers
                
            except Exception as e:
                print(f"[x] Error collecting from {feed_url}: {e}")
        
        self.collected_data['security_news'] = all_news
        return all_news
    
    def collect_malware_intelligence(self):
        print("[+] Collecting Malware Intelligence from OSINT...")
        
        malware_data = []
        
        try:
            malware_keywords = {
                'emotet': 'Banking Trojan',
                'trickbot': 'Banking Trojan', 
                'ryuk': 'Ransomware',
                'qbot': 'Banking Trojan',
                'icedid': 'Banking Trojan',
                'lockbit': 'Ransomware',
                'conti': 'Ransomware',
                'cobalt strike': 'Post-Exploitation',
                'lazarus': 'APT Malware',
                'blackcat': 'Ransomware',
                'alphv': 'Ransomware',
                'ransomware': 'Ransomware',
                'backdoor': 'Backdoor',
                'trojan': 'Trojan',
                'botnet': 'Botnet'
            }
            
            malware_mentions = defaultdict(int)
            all_text = ""
            
            # Aggregate text from news articles
            for news_item in self.collected_data['security_news']:
                text = (news_item.get('title', '') + ' ' + news_item.get('summary', '')).lower()
                all_text += text + ' '
            
            # Aggregate text from CISA alerts  
            for alert in self.collected_data['cisa_alerts']:
                text = (alert.get('title', '') + ' ' + alert.get('summary', '')).lower()
                all_text += text + ' '
            
            # Count mentions
            for malware_name, malware_type in malware_keywords.items():
                count = all_text.count(malware_name.lower())
                if count > 0:
                    malware_mentions[malware_name] = count
            
            # Convert to structured format
            for malware_name, mention_count in malware_mentions.items():
                if mention_count > 0:  # Only include malware that was actually mentioned
                    malware_info = {
                        'name': malware_name.title(),
                        'type': malware_keywords[malware_name],
                        'prevalence': mention_count,
                        'source': 'OSINT News Analysis'
                    }
                    malware_data.append(malware_info)
            
            try:
                print("[+] Querying MalwareBazaar for recent samples...")
                bazaar_url = "https://mb-api.abuse.ch/api/v1/"
                
                # Get recent malware samples
                bazaar_data = {
                    "query": "get_recent"
                }
                
                response = self.session.post(bazaar_url, data=bazaar_data, timeout=10)
                if response.status_code == 200:
                    bazaar_response = response.json()
                    if bazaar_response.get('query_status') == 'ok':
                        recent_samples = bazaar_response.get('data', [])
                        
                        # Count malware families from recent samples
                        family_counts = defaultdict(int)
                        for sample in recent_samples[:50]:  # Limit to recent 50
                            signature = sample.get('signature', 'Unknown')
                            if signature and signature != 'Unknown':
                                family_counts[signature] += 1
                        
                        # Add to our malware data
                        for family, count in family_counts.items():
                            # Check if we already have this family from news analysis
                            existing = next((m for m in malware_data if m['name'].lower() == family.lower()), None)
                            if existing:
                                existing['prevalence'] += count
                                existing['source'] = 'OSINT + MalwareBazaar'
                            else:
                                malware_data.append({
                                    'name': family,
                                    'type': 'Malware Sample',
                                    'prevalence': count,
                                    'source': 'MalwareBazaar'
                                })
                        
                        print(f"[+] Added {len(family_counts)} families from MalwareBazaar")
                    
            except Exception as e:
                print(f"[x] MalwareBazaar API unavailable: {e}")
            
            # Sort by prevalence
            malware_data.sort(key=lambda x: x['prevalence'], reverse=True)
            
            self.collected_data['malware_reports'] = malware_data
            print(f"[+] Collected {len(malware_data)} malware families from OSINT sources")
            return malware_data
            
        except Exception as e:
            print(f"[x] Error collecting malware intelligence: {e}")
            return []
    
    def collect_threat_actors(self):
        print("[+] Collecting Threat Actor Intelligence from OSINT...")
        
        threat_actors = []
        
        try:
            actor_keywords = {
                'apt29': {'attribution': 'Russia', 'aliases': ['cozy bear', 'nobelium']},
                'apt28': {'attribution': 'Russia', 'aliases': ['fancy bear', 'pawn storm']},
                'apt1': {'attribution': 'China', 'aliases': ['comment crew']},
                'lazarus': {'attribution': 'North Korea', 'aliases': ['lazarus group']},
                'apt40': {'attribution': 'China', 'aliases': ['leviathan']},
                'fin7': {'attribution': 'Financial Crime', 'aliases': ['carbanak']},
                'fin11': {'attribution': 'Financial Crime', 'aliases': []},
                'conti': {'attribution': 'Ransomware Group', 'aliases': []},
                'lockbit': {'attribution': 'Ransomware Group', 'aliases': []},
                'blackcat': {'attribution': 'Ransomware Group', 'aliases': ['alphv']},
                'cl0p': {'attribution': 'Ransomware Group', 'aliases': ['clop']},
                'revil': {'attribution': 'Ransomware Group', 'aliases': ['sodinokibi']}
            }
            
            # Aggregate all text for analysis
            all_text = ""
            recent_mentions = defaultdict(list)
            
            # Process security news
            for news_item in self.collected_data['security_news']:
                text = (news_item.get('title', '') + ' ' + news_item.get('summary', '')).lower()
                all_text += text + ' '
                
                # Track which articles mention which actors
                for actor_name, actor_info in actor_keywords.items():
                    search_terms = [actor_name] + actor_info['aliases']
                    for term in search_terms:
                        if term.lower() in text:
                            recent_mentions[actor_name].append({
                                'title': news_item.get('title', ''),
                                'source': news_item.get('source', ''),
                                'date': news_item.get('published', '')
                            })
                            break
            
            # Process CISA alerts
            for alert in self.collected_data['cisa_alerts']:
                text = (alert.get('title', '') + ' ' + alert.get('summary', '')).lower()
                all_text += text + ' '
                
                for actor_name, actor_info in actor_keywords.items():
                    search_terms = [actor_name] + actor_info['aliases']
                    for term in search_terms:
                        if term.lower() in text:
                            recent_mentions[actor_name].append({
                                'title': alert.get('title', ''),
                                'source': 'CISA',
                                'date': alert.get('published', '')
                            })
                            break
            
            # Build threat actor profiles based on actual mentions
            for actor_name, mentions in recent_mentions.items():
                if mentions:  # Only include actors that were actually mentioned
                    actor_info = actor_keywords[actor_name]
                    
                    # Determine activity level based on mention frequency
                    mention_count = len(mentions)
                    if mention_count >= 3:
                        activity_level = 'High'
                    elif mention_count >= 2:
                        activity_level = 'Medium'
                    else:
                        activity_level = 'Low'
                    
                    # Extract common targets and TTPs from context (simplified)
                    targets = self.extract_targets_from_mentions(mentions)
                    ttps = self.extract_ttps_from_mentions(mentions)
                    
                    threat_actor = {
                        'name': actor_name.upper(),
                        'attribution': actor_info['attribution'],
                        'aliases': actor_info['aliases'],
                        'targets': targets,
                        'ttps': ttps,
                        'activity_level': activity_level,
                        'recent_mentions': mention_count,
                        'recent_activity': mentions[:3],  # Keep recent 3 mentions
                        'source': 'OSINT Analysis'
                    }
                    
                    threat_actors.append(threat_actor)
            
            # Sort by activity level and recent mentions
            activity_order = {'High': 3, 'Medium': 2, 'Low': 1}
            threat_actors.sort(key=lambda x: (activity_order[x['activity_level']], x['recent_mentions']), reverse=True)
            
            self.collected_data['threat_actors'] = threat_actors
            print(f"[+] Profiled {len(threat_actors)} threat actors from OSINT sources")
            return threat_actors
            
        except Exception as e:
            print(f"[x] Error collecting threat actor intelligence: {e}")
            return []
    
    def extract_targets_from_mentions(self, mentions):
        target_keywords = {
            'government': 'Government',
            'healthcare': 'Healthcare', 
            'financial': 'Financial',
            'banking': 'Financial',
            'retail': 'Retail',
            'energy': 'Energy',
            'critical infrastructure': 'Critical Infrastructure',
            'technology': 'Technology',
            'manufacturing': 'Manufacturing'
        }
        
        found_targets = set()
        for mention in mentions:
            text = mention.get('title', '').lower()
            for keyword, target in target_keywords.items():
                if keyword in text:
                    found_targets.add(target)
        
        return list(found_targets) if found_targets else ['Multiple Sectors']
    
    def extract_ttps_from_mentions(self, mentions):
        ttp_keywords = {
            'phishing': 'Phishing',
            'spear phishing': 'Spear Phishing',
            'ransomware': 'Ransomware Deployment',
            'supply chain': 'Supply Chain Compromise',
            'zero-day': 'Zero-Day Exploits',
            'remote access': 'Remote Access Tools',
            'lateral movement': 'Lateral Movement',
            'credential': 'Credential Harvesting',
            'backdoor': 'Backdoor Installation'
        }
        
        found_ttps = set()
        for mention in mentions:
            text = mention.get('title', '').lower()
            for keyword, ttp in ttp_keywords.items():
                if keyword in text:
                    found_ttps.add(ttp)
        
        return list(found_ttps) if found_ttps else ['Advanced Persistent Threats']
    
    # Helper functions
    def extract_severity(self, title):
        title_lower = title.lower()
        if any(word in title_lower for word in ['critical', 'urgent', 'high']):
            return 'High'
        elif any(word in title_lower for word in ['medium', 'moderate']):
            return 'Medium'
        else:
            return 'Low'
    
    def get_cvss_score(self, cve_data):
        try:
            metrics = cve_data.get('metrics', {})
            cvss_v3 = metrics.get('cvssMetricV31', [{}])[0]
            if cvss_v3:
                return cvss_v3.get('cvssData', {}).get('baseScore', 'Unknown')
            return 'Unknown'
        except:
            return 'Unknown'
    
    def extract_source_name(self, url):
        if 'hackernews' in url.lower():
            return 'The Hacker News'
        elif 'krebs' in url.lower():
            return 'Krebs on Security'
        elif 'bleeping' in url.lower():
            return 'BleepingComputer'
        else:
            return 'Security News'
    
    def extract_threat_intelligence(self, text):
        threat_intel = {
            'malware_families': [],
            'cve_numbers': [],
            'threat_actors': [],
            'attack_techniques': [],
            'targeted_vendors': [],
            'industry_targets': []
        }
        
        text_lower = text.lower()
        
        malware_patterns = [
            'emotet', 'trickbot', 'qbot', 'icedid', 'lockbit', 'conti', 'ryuk', 'maze',
            'blackcat', 'alphv', 'ransomexx', 'darkside', 'revil', 'sodinokibi',
            'cobalt strike', 'metasploit', 'mimikatz', 'powershell empire',
            'lazarus', 'apt29', 'apt28', 'apt1', 'fin7', 'carbanak'
        ]
        
        # CVE pattern matching
        cve_pattern = re.compile(r'cve-\d{4}-\d{4,7}', re.IGNORECASE)
        threat_intel['cve_numbers'] = cve_pattern.findall(text)
        
        # Threat actor patterns
        actor_patterns = [
            'apt29', 'apt28', 'apt1', 'apt40', 'lazarus group', 'fin7', 'fin11',
            'cozy bear', 'fancy bear', 'comment crew', 'carbanak', 'conti group',
            'lockbit gang', 'darkside', 'blackcat', 'alphv'
        ]
        
        # Specific attack techniques (MITRE ATT&CK style)
        technique_patterns = [
            'spear phishing', 'watering hole', 'supply chain compromise',
            'privilege escalation', 'lateral movement', 'credential dumping',
            'pass the hash', 'golden ticket', 'living off the land',
            'dll hijacking', 'process injection', 'token impersonation',
            'rdp compromise', 'vpn compromise', 'zero-day exploit'
        ]
        
        # Targeted vendors/technologies
        vendor_patterns = [
            'microsoft', 'adobe', 'oracle', 'citrix', 'vmware', 'fortinet',
            'palo alto', 'cisco', 'juniper', 'f5', 'windows', 'exchange',
            'sharepoint', 'office 365', 'active directory', 'solarwinds'
        ]
        
        # Industry targets
        industry_patterns = [
            'healthcare', 'financial services', 'government', 'critical infrastructure',
            'energy sector', 'manufacturing', 'retail', 'education', 'telecommunications'
        ]
        
        # Extract matches
        for pattern in malware_patterns:
            if pattern in text_lower:
                threat_intel['malware_families'].append(pattern.title())
        
        for pattern in actor_patterns:
            if pattern in text_lower:
                threat_intel['threat_actors'].append(pattern.title())
        
        for pattern in technique_patterns:
            if pattern in text_lower:
                threat_intel['attack_techniques'].append(pattern.title())
        
        for pattern in vendor_patterns:
            if pattern in text_lower:
                threat_intel['targeted_vendors'].append(pattern.title())
        
        for pattern in industry_patterns:
            if pattern in text_lower:
                threat_intel['industry_targets'].append(pattern.title())
        
        return threat_intel

class ThreatIntelligenceAnalyzer:
    def __init__(self, collector_data):
        self.data = collector_data
        self.trends = {}
        
    def analyze_threat_trends(self):
        print("\n[+] Analyzing Threat Trends...")
        
        # Collect all threat intelligence from news
        all_malware = []
        all_cves = []
        all_actors = []
        all_techniques = []
        all_vendors = []
        all_industries = []
        
        for news_item in self.data['security_news']:
            threat_intel = news_item.get('threat_intelligence', {})
            all_malware.extend(threat_intel.get('malware_families', []))
            all_cves.extend(threat_intel.get('cve_numbers', []))
            all_actors.extend(threat_intel.get('threat_actors', []))
            all_techniques.extend(threat_intel.get('attack_techniques', []))
            all_vendors.extend(threat_intel.get('targeted_vendors', []))
            all_industries.extend(threat_intel.get('industry_targets', []))
        
        # Count frequencies
        malware_trends = Counter(all_malware)
        cve_trends = Counter(all_cves)
        actor_trends = Counter(all_actors)
        technique_trends = Counter(all_techniques)
        vendor_trends = Counter(all_vendors)
        industry_trends = Counter(all_industries)
        
        # Malware family trends from our collected data
        malware_family_trends = {}
        for malware in self.data['malware_reports']:
            malware_family_trends[malware['name']] = malware['prevalence']
        
        self.trends = {
            'trending_malware': malware_trends.most_common(10),
            'trending_cves': cve_trends.most_common(10),
            'active_threat_actors': actor_trends.most_common(10),
            'attack_techniques': technique_trends.most_common(10),
            'targeted_vendors': vendor_trends.most_common(10),
            'targeted_industries': industry_trends.most_common(10),
            'malware_families': malware_family_trends,
            'total_alerts': len(self.data['cisa_alerts']),
            'total_cves': len(self.data['cve_data']),
            'active_threat_actors_count': len(self.data['threat_actors'])
        }
        
        return self.trends
    
    def generate_threat_landscape_report(self):
        print("\n[+] Generating Threat Landscape Report...")
        
        report = {
            'executive_summary': self.create_executive_summary(),
            'top_threats': self.identify_top_threats(),
            'malware_analysis': self.analyze_malware_landscape(),
            'threat_actor_activity': self.analyze_threat_actors(),
            'recommendations': self.generate_recommendations()
        }
        
        return report
    
    def create_executive_summary(self):
        total_threats = len(self.data['security_news']) + len(self.data['cisa_alerts'])
        
        summary = f"""
        EXECUTIVE SUMMARY - THREAT LANDSCAPE ANALYSIS
        ============================================
        
        Analysis Period: {datetime.now().strftime('%Y-%m-%d')}
        Total Intelligence Sources Analyzed: {total_threats}
        
        KEY FINDINGS:
        • {len(self.data['cisa_alerts'])} government cybersecurity alerts processed
        • {len(self.data['cve_data'])} recent vulnerabilities identified
        • {len(self.data['malware_reports'])} active malware families tracked
        • {len(self.data['threat_actors'])} threat actor groups monitored
        
        THREAT LEVEL ASSESSMENT: ELEVATED
        Primary concerns include advanced persistent threats, ransomware campaigns, 
        and supply chain vulnerabilities affecting critical infrastructure.
        """
        
        return summary
    
    def identify_top_threats(self):
        # Sort malware by prevalence
        sorted_malware = sorted(self.data['malware_reports'], 
                              key=lambda x: x['prevalence'], reverse=True)
        
        top_threats = []
        for i, malware in enumerate(sorted_malware[:5]):
            threat = {
                'rank': i + 1,
                'name': malware['name'],
                'type': malware['type'],
                'prevalence_score': malware['prevalence'],
                'risk_level': 'Critical' if malware['prevalence'] > 20 else 'High' if malware['prevalence'] > 15 else 'Medium'
            }
            top_threats.append(threat)
        
        return top_threats
    
    def analyze_malware_landscape(self):
        """Analyze malware landscape"""
        malware_by_type = defaultdict(int)
        for malware in self.data['malware_reports']:
            malware_by_type[malware['type']] += 1
        
        return dict(malware_by_type)
    
    def analyze_threat_actors(self):
        """Analyze threat actor activity"""
        actors_by_attribution = defaultdict(int)
        high_activity_actors = []
        
        for actor in self.data['threat_actors']:
            actors_by_attribution[actor['attribution']] += 1
            if actor['activity_level'] == 'High':
                high_activity_actors.append(actor['name'])
        
        return {
            'by_attribution': dict(actors_by_attribution),
            'high_activity': high_activity_actors
        }
    
    def generate_recommendations(self):
        recommendations = [
            "Implement robust email security to counter phishing campaigns",
            "Maintain current patch management for recent CVE vulnerabilities",
            "Deploy advanced endpoint detection for malware family variants",
            "Monitor for indicators of compromise from active threat actors",
            "Enhance backup and recovery procedures against ransomware",
            "Implement network segmentation to limit lateral movement",
            "Conduct regular security awareness training for staff"
        ]
        
        return recommendations

def create_threat_visualizations(analyzer):
    
    # Set up the plotting layout
    fig = plt.figure(figsize=(20, 15))
    
    # 1. Top Malware Families by Prevalence
    plt.subplot(2, 3, 1)
    malware_names = [m['name'] for m in analyzer.data['malware_reports']]
    malware_prevalence = [m['prevalence'] for m in analyzer.data['malware_reports']]
    
    bars = plt.bar(malware_names, malware_prevalence, color=['#ff6b6b', '#4ecdc4', '#45b7d1', '#96ceb4', '#feca57', '#ff9ff3', '#54a0ff', '#5f27cd'])
    plt.title('Active Malware Families - Prevalence Analysis', fontsize=14, fontweight='bold')
    plt.xticks(rotation=45, ha='right')
    plt.ylabel('Prevalence Score')
    
    # Add value labels on bars
    for bar in bars:
        height = bar.get_height()
        plt.text(bar.get_x() + bar.get_width()/2., height + 0.5,
                f'{int(height)}', ha='center', va='bottom', fontweight='bold')
    
    # 2. Malware Types Distribution
    plt.subplot(2, 3, 2)
    malware_types = defaultdict(int)
    for malware in analyzer.data['malware_reports']:
        malware_types[malware['type']] += 1
    
    plt.pie(malware_types.values(), labels=malware_types.keys(), autopct='%1.1f%%',
            colors=['#ff6b6b', '#4ecdc4', '#45b7d1', '#96ceb4'])
    plt.title('Malware Distribution by Type', fontsize=14, fontweight='bold')
    
    # 3. Threat Actor Attribution
    plt.subplot(2, 3, 3)
    attributions = defaultdict(int)
    for actor in analyzer.data['threat_actors']:
        attributions[actor['attribution']] += 1
    
    plt.bar(attributions.keys(), attributions.values(), 
            color=['#ff6b6b', '#4ecdc4', '#45b7d1', '#96ceb4'])
    plt.title('Threat Actors by Attribution', fontsize=14, fontweight='bold')
    plt.xticks(rotation=45, ha='right')
    plt.ylabel('Number of Groups')
    
    # 4. CISA Alert Severity Distribution
    plt.subplot(2, 3, 4)
    if analyzer.data['cisa_alerts']:
        severities = [alert['severity'] for alert in analyzer.data['cisa_alerts']]
        severity_counts = Counter(severities)
        
        colors = {'High': '#ff6b6b', 'Medium': '#feca57', 'Low': '#4ecdc4'}
        plt.bar(severity_counts.keys(), severity_counts.values(),
                color=[colors.get(k, '#96ceb4') for k in severity_counts.keys()])
        plt.title('CISA Alert Severity Levels', fontsize=14, fontweight='bold')
        plt.ylabel('Number of Alerts')
    else:
        plt.text(0.5, 0.5, 'No CISA Alerts Available', ha='center', va='center', transform=plt.gca().transAxes)
        plt.title('CISA Alert Severity Levels', fontsize=14, fontweight='bold')
    
    # 5. Top Specific Threat Intelligence
    plt.subplot(2, 3, 5)
    if analyzer.trends.get('trending_malware'):
        items, counts = zip(*analyzer.trends['trending_malware'][:8])
        plt.barh(items, counts, color='#45b7d1')
        plt.title('Trending Malware Families', fontsize=14, fontweight='bold')
        plt.xlabel('Mentions')
    elif analyzer.trends.get('attack_techniques'):
        items, counts = zip(*analyzer.trends['attack_techniques'][:8])
        plt.barh(items, counts, color='#45b7d1')
        plt.title('Trending Attack Techniques', fontsize=14, fontweight='bold')
        plt.xlabel('Mentions')
    else:
        plt.text(0.5, 0.5, 'No Trending Threats Available', ha='center', va='center', transform=plt.gca().transAxes)
        plt.title('Trending Threat Intelligence', fontsize=14, fontweight='bold')
    
    # 6. Intelligence Sources Overview
    plt.subplot(2, 3, 6)
    source_counts = {
        'CISA Alerts': len(analyzer.data['cisa_alerts']),
        'CVE Records': len(analyzer.data['cve_data']),
        'Security News': len(analyzer.data['security_news']),
        'Malware Intel': len(analyzer.data['malware_reports']),
        'Threat Actors': len(analyzer.data['threat_actors'])
    }
    
    plt.bar(source_counts.keys(), source_counts.values(), 
            color=['#ff6b6b', '#4ecdc4', '#45b7d1', '#96ceb4', '#feca57'])
    plt.title('Intelligence Sources Coverage', fontsize=14, fontweight='bold')
    plt.xticks(rotation=45, ha='right')
    plt.ylabel('Records Collected')
    
    plt.tight_layout()
    plt.suptitle('ThreatPulse: Current Threat Landscape Analysis', 
                 fontsize=18, fontweight='bold', y=0.98)
    plt.show()

def print_executive_dashboard(analyzer):
    print("\n" + "="*80)
    print("[!] THREATPULSE EXECUTIVE THREAT INTELLIGENCE DASHBOARD")
    print("="*80)
    
    # Current timestamp
    print(f"[!] Generated: {datetime.now().strftime('%Y-%m-%d %H:%M:%S UTC')}")
    print(f"[!] Data Sources: {len(analyzer.data['security_news']) + len(analyzer.data['cisa_alerts'])} intelligence feeds processed")
    
    print("\n[+] THREAT LANDSCAPE OVERVIEW")
    print("-" * 40)
    print(f"• Government Alerts (CISA): {len(analyzer.data['cisa_alerts'])}")
    print(f"• Recent Vulnerabilities (CVE): {len(analyzer.data['cve_data'])}")
    print(f"• Active Malware Families: {len(analyzer.data['malware_reports'])}")
    print(f"• Monitored Threat Actors: {len(analyzer.data['threat_actors'])}")
    print(f"• Security News Articles: {len(analyzer.data['security_news'])}")
    
    print("\n[+] TOP MALWARE THREATS")
    print("-" * 40)
    sorted_malware = sorted(analyzer.data['malware_reports'], 
                          key=lambda x: x['prevalence'], reverse=True)
    
    for i, malware in enumerate(sorted_malware[:5]):
        risk_indicator = "[HIGH]" if malware['prevalence'] > 10 else "[MED]" if malware['prevalence'] > 5 else "[LOW]"
        print(f"{i+1}. {risk_indicator} {malware['name']} ({malware['type']}) - Prevalence: {malware['prevalence']}")
    
    print("\n[+] ACTIVE THREAT ACTORS")
    print("-" * 40)
    high_activity = [actor for actor in analyzer.data['threat_actors'] if actor['activity_level'] == 'High']
    
    for actor in high_activity:
        print(f"[HIGH] {actor['name']} ({actor['attribution']})")
        print(f"   Targets: {', '.join(actor['targets'])}")
        print(f"   TTPs: {', '.join(actor['ttps'][:3])}")
        print()
    
    # Show trending threat intelligence
    if analyzer.trends.get('trending_malware'):
        print("[+] TRENDING MALWARE FAMILIES")
        print("-" * 40)
        for malware, count in analyzer.trends['trending_malware'][:5]:
            print(f"• {malware}: {count} mentions")
    
    if analyzer.trends.get('trending_cves'):
        print("\n[+] TRENDING VULNERABILITIES")
        print("-" * 40)
        for cve, count in analyzer.trends['trending_cves'][:5]:
            print(f"• {cve.upper()}: {count} mentions")
    
    if analyzer.trends.get('attack_techniques'):
        print("\n[+] TRENDING ATTACK TECHNIQUES")
        print("-" * 40)
        for technique, count in analyzer.trends['attack_techniques'][:5]:
            print(f"• {technique}: {count} mentions")
    
    if analyzer.trends.get('targeted_vendors'):
        print("\n[+] TARGETED VENDORS/TECHNOLOGIES")
        print("-" * 40)
        for vendor, count in analyzer.trends['targeted_vendors'][:5]:
            print(f"• {vendor}: {count} mentions")
    
    print("\n[!] KEY RECOMMENDATIONS")
    print("-" * 40)
    recommendations = analyzer.generate_recommendations()
    for i, rec in enumerate(recommendations[:5]):
        print(f"{i+1}. {rec}")
    
    print("\n" + "="*80)

def export_threat_report(analyzer, filename=None):
    """Export detailed threat report to text file"""
    if filename is None:
        filename = f"threat_intelligence_report_{datetime.now().strftime('%Y%m%d_%H%M%S')}.txt"
    
    report = analyzer.generate_threat_landscape_report()
    
    with open(filename, 'w') as f:
        f.write("THREATPULSE - COMPREHENSIVE THREAT INTELLIGENCE REPORT\n")
        f.write("=" * 60 + "\n\n")
        
        f.write(report['executive_summary'] + "\n\n")
        
        f.write("TOP THREATS ANALYSIS\n")
        f.write("-" * 30 + "\n")
        for threat in report['top_threats']:
            f.write(f"{threat['rank']}. {threat['name']} ({threat['type']})\n")
            f.write(f"   Risk Level: {threat['risk_level']}\n")
            f.write(f"   Prevalence Score: {threat['prevalence_score']}\n\n")
        
        f.write("THREAT ACTOR ACTIVITY\n")
        f.write("-" * 30 + "\n")
        f.write(f"High Activity Actors: {', '.join(report['threat_actor_activity']['high_activity'])}\n\n")
        
        f.write("SECURITY RECOMMENDATIONS\n")
        f.write("-" * 30 + "\n")
        for i, rec in enumerate(report['recommendations']):
            f.write(f"{i+1}. {rec}\n")
    
    print(f"[+] Detailed report exported to: {filename}")

def run_threat_intelligence_collection():
    print("[+] Starting ThreatPulse Intelligence Collection...")
    print("[!] This may take a few moments as we gather data from multiple sources.\n")
    
    # Initialize collector
    collector = ThreatIntelligenceCollector()
    
    # Collect data from various sources
    collector.collect_cisa_alerts()
    time.sleep(2)  # Be respectful to APIs
    
    collector.collect_cve_data() 
    time.sleep(2)
    
    collector.collect_security_news()
    time.sleep(2)
    
    # Collect real malware and threat actor intelligence from OSINT sources
    collector.collect_malware_intelligence()
    collector.collect_threat_actors()
    
    print(f"\n[+] Data collection complete!")
    print(f"[!] Total intelligence points gathered: {sum(len(v) for v in collector.collected_data.values())}")
    
    # Initialize analyzer with collected data
    analyzer = ThreatIntelligenceAnalyzer(collector.collected_data)
    
    # Perform analysis
    trends = analyzer.analyze_threat_trends()
    
    # Display results
    print_executive_dashboard(analyzer)
    
    return collector, analyzer

def demonstrate_threat_intel_capabilities():
    
    print("[!] INTERVIEW DEMONSTRATION: Threat Intelligence Capabilities")
    print("=" * 70)
    print("""
    This notebook demonstrates key threat intelligence skills:
    
    1. [+] OSINT Collection - Automated gathering from multiple sources
    2. [+] Data Analysis - Pattern recognition and trend identification  
    3. [+] Visualization - Clear presentation of complex threat data
    4. [+] Reporting - Executive and technical intelligence products
    5. [+] Actionable Intelligence - Translating data into security decisions
    
    Key OSINT Sources Integrated:
    • CISA Cybersecurity Advisories
    • National Vulnerability Database (NVD)
    • Security vendor blogs and threat reports
    • Open source threat intelligence feeds
    • CVE databases and vulnerability disclosures
    • MalwareBazaar for real malware samples
    
    Analysis Capabilities:
    • Threat trend identification and forecasting
    • Malware family tracking and classification
    • Threat actor profiling and TTP analysis
    • MITRE ATT&CK framework mapping
    • Risk assessment and prioritization
    • Specific intelligence extraction (CVEs, techniques, vendors)
    """)

print("[!] ThreatPulse Notebook Ready!")
print("\nTo start collecting threat intelligence, run:")
print("collector, analyzer = run_threat_intelligence_collection()")
print("\nTo create visualizations, run:")  
print("create_threat_visualizations(analyzer)")
print("\nTo export a detailed report, run:")
print("export_threat_report(analyzer)")

collector, analyzer = run_threat_intelligence_collection()
create_threat_visualizations(analyzer)
